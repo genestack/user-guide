{
 "cells": [
  {
   "cell_type": "markdown",
   "metadata": {},
   "source": [
    "## 1. Authenticating user"
   ]
  },
  {
   "cell_type": "code",
   "execution_count": 2,
   "metadata": {},
   "outputs": [
    {
     "data": {
      "text/plain": [
       "<Response [200]>"
      ]
     },
     "execution_count": 2,
     "metadata": {},
     "output_type": "execute_result"
    }
   ],
   "source": [
    "import requests\n",
    "import json\n",
    "\n",
    "token = '<token>'\n",
    "instance = 'odm-demos.genestack.com'\n",
    "app_endpoint = 'https://%s/frontend/endpoint/application/invoke/genestack/' % instance\n",
    "url_authenticate = app_endpoint + 'signin/authenticateByApiToken'\n",
    "\n",
    "s = requests.Session()\n",
    "s.post(url_authenticate, json=[token])"
   ]
  },
  {
   "cell_type": "markdown",
   "metadata": {},
   "source": [
    "## 2. Sharing a study"
   ]
  },
  {
   "cell_type": "code",
   "execution_count": 2,
   "metadata": {},
   "outputs": [
    {
     "name": "stdout",
     "output_type": "stream",
     "text": [
      "{u'Genestack members': u'GSG000002', u'Curators': u'GSG000004'}\n"
     ]
    }
   ],
   "source": [
    "# Get a list of user groups and their accessions\n",
    "url_get_groups = app_endpoint + 'groupsadmin/getData'\n",
    "groups = {}\n",
    "for group in json.loads(s.post(url=url_get_groups).text)['result']['groups']:\n",
    "    groups[group['name']] = group['accession']\n",
    "print groups"
   ]
  },
  {
   "cell_type": "code",
   "execution_count": 3,
   "metadata": {},
   "outputs": [
    {
     "data": {
      "text/plain": [
       "<Response [200]>"
      ]
     },
     "execution_count": 3,
     "metadata": {},
     "output_type": "execute_result"
    }
   ],
   "source": [
    "# Share a study to a specific user group\n",
    "study = 'GSF202527'\n",
    "group = groups['Genestack members']\n",
    "url_share_study = app_endpoint + 'shareutils/shareFiles'\n",
    "s.post(url=url_share_study, json=[[study], [group], [\"VIEW\", \"EDIT\"]])"
   ]
  },
  {
   "cell_type": "markdown",
   "metadata": {},
   "source": [
    "## 3. Exporting a study"
   ]
  },
  {
   "cell_type": "code",
   "execution_count": 4,
   "metadata": {},
   "outputs": [
    {
     "name": "stdout",
     "output_type": "stream",
     "text": [
      "GSF202540\n"
     ]
    }
   ],
   "source": [
    "# Create an export file\n",
    "url_export_study = app_endpoint + 'file-export/createFile'\n",
    "url_initialize = app_endpoint + 'initializer/initialize'\n",
    "exported_file = json.loads(s.post(url=url_export_study, json=[[study]]).text)['result']\n",
    "s.post(url=url_initialize, json=[[exported_file]])\n",
    "print exported_file"
   ]
  },
  {
   "cell_type": "code",
   "execution_count": 5,
   "metadata": {},
   "outputs": [
    {
     "name": "stdout",
     "output_type": "stream",
     "text": [
      "COMPLETE\n"
     ]
    }
   ],
   "source": [
    "# Check export status\n",
    "url_export_status = app_endpoint + 'initializer/loadInfo'\n",
    "status = json.loads(s.post(url=url_export_status, json=[[exported_file]]).text)['result'][0]['initializationStatus']['id']\n",
    "print status"
   ]
  },
  {
   "cell_type": "code",
   "execution_count": 6,
   "metadata": {},
   "outputs": [
    {
     "name": "stdout",
     "output_type": "stream",
     "text": [
      "https://genestack.research.corteva.com/frontend/endpoint/application/download/genestack/file-export/c3RvcmFnZTpleHBvcnRlZC8yMDE5LzEyLzA5LzM4MjVjYmRiLTFhMTMtNGM4OS1iNzA4LTYxNzRiZTRiZmQ5MC9FeHBvcnRlZCUyMG9uJTIwMjAxOS0xMi0wOSUyMDE2XzQ4XzAxLnppcC9hL3QvZy9jL2FwcGxpY2F0aW9uL3ppcC9hL3QvZy9jLzIyMjU=/Exported on 2019-12-09 16_48_01.zip\n"
     ]
    }
   ],
   "source": [
    "# When status == \"COMPLETE\", get the download URL\n",
    "url_export_link = app_endpoint + 'file-export/getFileInfo'\n",
    "export_base_url = 'https://%s/frontend/endpoint/application/download/genestack/file-export/' % instance\n",
    "print export_base_url + json.loads(s.post(url=url_export_link, json=[exported_file]).text)['result']['downloadString']"
   ]
  },
  {
   "cell_type": "markdown",
   "metadata": {},
   "source": [
    "## 4. Deleting a study, a sample, or an expression object"
   ]
  },
  {
   "cell_type": "code",
   "execution_count": 6,
   "metadata": {},
   "outputs": [
    {
     "data": {
      "text/plain": [
       "<Response [200]>"
      ]
     },
     "execution_count": 6,
     "metadata": {},
     "output_type": "execute_result"
    }
   ],
   "source": [
    "object_to_delete = 'GSF015445'\n",
    "url_delete_object = app_endpoint + 'study-metainfo-editor/wipeStudy'\n",
    "s.post(url=url_delete_object, json=[object_to_delete])"
   ]
  },
  {
   "cell_type": "code",
   "execution_count": null,
   "metadata": {},
   "outputs": [],
   "source": []
  }
 ],
 "metadata": {
  "kernelspec": {
   "display_name": "Python 2",
   "language": "python",
   "name": "python2"
  },
  "language_info": {
   "codemirror_mode": {
    "name": "ipython",
    "version": 3
   },
   "file_extension": ".py",
   "mimetype": "text/x-python",
   "name": "python",
   "nbconvert_exporter": "python",
   "pygments_lexer": "ipython3",
   "version": "3.7.7"
  }
 },
 "nbformat": 4,
 "nbformat_minor": 4
}
